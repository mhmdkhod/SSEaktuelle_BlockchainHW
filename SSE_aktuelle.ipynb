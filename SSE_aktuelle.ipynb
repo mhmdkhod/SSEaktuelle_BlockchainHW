{
 "cells": [
  {
   "cell_type": "code",
   "execution_count": 208,
   "id": "aab75517-46fa-4c2e-8eb1-bad43d8036e2",
   "metadata": {},
   "outputs": [],
   "source": [
    "folder = 'blockchain_ex1/'"
   ]
  },
  {
   "cell_type": "code",
   "execution_count": null,
   "id": "2feab056-b227-459b-b898-a36e4038e5d0",
   "metadata": {},
   "outputs": [],
   "source": []
  },
  {
   "cell_type": "code",
   "execution_count": null,
   "id": "3f791b61-0a35-4a5d-961a-f4a2afa52c5b",
   "metadata": {},
   "outputs": [],
   "source": []
  },
  {
   "cell_type": "code",
   "execution_count": 99,
   "id": "fd0f22a9-7414-42e8-a83a-1e2e3cddcc2e",
   "metadata": {},
   "outputs": [],
   "source": [
    "import hashlib\n",
    "\n",
    "def sha256sum(filename):\n",
    "    with open(filename, 'rb', buffering=0) as f:\n",
    "        return hashlib.file_digest(f, 'sha256').hexdigest()"
   ]
  },
  {
   "cell_type": "code",
   "execution_count": 202,
   "id": "fd461188-8f14-4e83-b49e-dcd88636c66b",
   "metadata": {},
   "outputs": [
    {
     "data": {
      "text/plain": [
       "'25f4b5d55e2ca0a17c694bcbfcfab607b43fb9849a67f0dcc959229c6355ab04'"
      ]
     },
     "execution_count": 202,
     "metadata": {},
     "output_type": "execute_result"
    }
   ],
   "source": [
    "sha256sum('blockchain_ex1/03')"
   ]
  },
  {
   "cell_type": "code",
   "execution_count": null,
   "id": "8deb5a21-8acc-45b7-93aa-c89b3074067a",
   "metadata": {},
   "outputs": [],
   "source": []
  },
  {
   "cell_type": "code",
   "execution_count": null,
   "id": "7e293c50-059e-48c7-b736-d817646ba50d",
   "metadata": {},
   "outputs": [],
   "source": []
  },
  {
   "cell_type": "code",
   "execution_count": null,
   "id": "ccb5bc42-80d9-4783-9961-575fc0e7e0fd",
   "metadata": {},
   "outputs": [],
   "source": []
  },
  {
   "cell_type": "code",
   "execution_count": null,
   "id": "a68aa8f8-e4be-4bd5-9a95-784b8e080ce1",
   "metadata": {},
   "outputs": [],
   "source": []
  },
  {
   "cell_type": "code",
   "execution_count": 106,
   "id": "eb6b2180-eaaa-460b-9761-d697f3d9ec01",
   "metadata": {},
   "outputs": [],
   "source": [
    "def check_hash_in_content(filename):\n",
    "    f = open(filename, \"r\")\n",
    "    return f.readlines()[1].split('=')[1].strip('\\n')\n",
    "\n",
    "#check_hash_in_content(filename)"
   ]
  },
  {
   "cell_type": "code",
   "execution_count": 210,
   "id": "2005733b-c56c-436a-98eb-d2df03d2a845",
   "metadata": {},
   "outputs": [
    {
     "name": "stdout",
     "output_type": "stream",
     "text": [
      "['00', '01', '02', '03', '04']\n",
      "-- BLOCK  1 is a valid block\n",
      "-- BLOCK  2 is a valid block\n",
      "-- BLOCK  3 is a valid block\n",
      "-- BLOCK  4 is a valid block\n"
     ]
    }
   ],
   "source": [
    "import os\n",
    "def check_correctness(folder):\n",
    "    \n",
    "    for path, folder_name, file_names in os.walk(folder):\n",
    "        blocks = file_names\n",
    "        blocks.sort()\n",
    "        print(blocks)\n",
    "\n",
    "    \n",
    "    for i in range(len(blocks)-1): # the first block has a null hash and shall not be checked.\n",
    "        block_path = folder + blocks[i]\n",
    "        next_block_path = folder + blocks[i+1]\n",
    "        if sha256sum(block_path) == check_hash_in_content(next_block_path):\n",
    "            print ('-- BLOCK ', i+1, \"is a valid block\")\n",
    "\n",
    "        else:\n",
    "            print ('-- BLOCK ', i+1, \"is a not a valid block\")\n",
    "            print ( 'expected : ', sha256sum(block_path), ' got : ', check_hash_in_content(next_block_path))\n",
    "\n",
    "\n",
    "check_correctness(folder)"
   ]
  },
  {
   "cell_type": "code",
   "execution_count": null,
   "id": "cbd79925-9ece-48b0-aebf-e235776500b4",
   "metadata": {},
   "outputs": [],
   "source": []
  },
  {
   "cell_type": "code",
   "execution_count": null,
   "id": "ea43541b-ea4c-4616-b279-0bc2a497ec2f",
   "metadata": {},
   "outputs": [],
   "source": []
  },
  {
   "cell_type": "code",
   "execution_count": 232,
   "id": "49b668be-dd01-46ad-9551-7e7477692dc6",
   "metadata": {},
   "outputs": [
    {
     "name": "stdout",
     "output_type": "stream",
     "text": [
      "['00', '01', '02']\n",
      "-- BLOCK  1 is a valid block\n",
      "-- BLOCK  2 is a not a valid block\n",
      "expected :  205bca88b178c49d6a3c53b84e225e5814c58d59918bde2362e78cbd788d74d0  got :  3bc678e860fb35a633494049f137ac78ca685a7027639362539472cf482e1557\n",
      "['00', '01', '02', '03', '04', '05']\n",
      "-- BLOCK  1 is a valid block\n",
      "-- BLOCK  2 is a valid block\n",
      "-- BLOCK  3 is a valid block\n",
      "-- BLOCK  4 is a valid block\n",
      "-- BLOCK  5 is a valid block\n",
      "['00', '01', '02', '03', '04']\n",
      "-- BLOCK  1 is a valid block\n",
      "-- BLOCK  2 is a valid block\n",
      "-- BLOCK  3 is a valid block\n",
      "-- BLOCK  4 is a valid block\n",
      "['00', '01', '02', '03']\n",
      "-- BLOCK  1 is a valid block\n",
      "-- BLOCK  2 is a valid block\n",
      "-- BLOCK  3 is a not a valid block\n",
      "expected :  f76659ff88edc561bf6bf0c9efdcefbb85ff5e332e42f83de96baa0b1a2a5307  got :  ebc9361b0ec3bfdf1ead9a0951f31f2184ac3d6b43a32928667a2b8e7bcadc6e\n",
      "['00', '01', '02', '03']\n",
      "-- BLOCK  1 is a valid block\n",
      "-- BLOCK  2 is a valid block\n",
      "-- BLOCK  3 is a valid block\n"
     ]
    }
   ],
   "source": [
    "folder1=\"blockchain_ex2/blockchain_01/\"\n",
    "check_correctness(folder1)\n",
    "\n",
    "folder2=\"blockchain_ex2/blockchain_02/\"\n",
    "check_correctness(folder2)\n",
    "\n",
    "folder3=\"blockchain_ex2/blockchain_03/\"\n",
    "check_correctness(folder3)\n",
    "\n",
    "folder4=\"blockchain_ex2/blockchain_04/\"\n",
    "check_correctness(folder4)\n",
    "\n",
    "check_correctness(folder5)\n",
    "folder5=\"blockchain_ex2/blockchain_05/\"\n",
    "\n"
   ]
  },
  {
   "cell_type": "code",
   "execution_count": null,
   "id": "8c015ba0-c907-4f85-b249-1d753b76d083",
   "metadata": {},
   "outputs": [],
   "source": []
  }
 ],
 "metadata": {
  "kernelspec": {
   "display_name": "Python [conda env:base] *",
   "language": "python",
   "name": "conda-base-py"
  },
  "language_info": {
   "codemirror_mode": {
    "name": "ipython",
    "version": 3
   },
   "file_extension": ".py",
   "mimetype": "text/x-python",
   "name": "python",
   "nbconvert_exporter": "python",
   "pygments_lexer": "ipython3",
   "version": "3.12.7"
  }
 },
 "nbformat": 4,
 "nbformat_minor": 5
}
